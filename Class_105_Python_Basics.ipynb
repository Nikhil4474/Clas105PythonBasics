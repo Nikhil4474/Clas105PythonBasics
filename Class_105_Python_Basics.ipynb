{
  "nbformat": 4,
  "nbformat_minor": 0,
  "metadata": {
    "colab": {
      "provenance": [],
      "toc_visible": true,
      "authorship_tag": "ABX9TyOcD9/vCIMFQLSyid5+uZXX",
      "include_colab_link": true
    },
    "kernelspec": {
      "name": "python3",
      "display_name": "Python 3"
    },
    "language_info": {
      "name": "python"
    }
  },
  "cells": [
    {
      "cell_type": "markdown",
      "metadata": {
        "id": "view-in-github",
        "colab_type": "text"
      },
      "source": [
        "<a href=\"https://colab.research.google.com/github/Nikhil4474/Class105PythonBasics/blob/main/Class_105_Python_Basics.ipynb\" target=\"_parent\"><img src=\"https://colab.research.google.com/assets/colab-badge.svg\" alt=\"Open In Colab\"/></a>"
      ]
    },
    {
      "cell_type": "code",
      "execution_count": null,
      "metadata": {
        "colab": {
          "base_uri": "https://localhost:8080/"
        },
        "id": "gQQaYvR9cgnB",
        "outputId": "89739612-4b4f-412a-f7b5-0086639a1ef6"
      },
      "outputs": [
        {
          "output_type": "stream",
          "name": "stdout",
          "text": [
            "This is my first python program\n"
          ]
        }
      ],
      "source": [
        "print(\"This is my first python program\")\n",
        "\n",
        "'''\n",
        "bah\n",
        "bah\n",
        "bah\n",
        "dlsk\n",
        "'''"
      ]
    },
    {
      "cell_type": "code",
      "source": [],
      "metadata": {
        "id": "IDnmoMIte9KI"
      },
      "execution_count": null,
      "outputs": []
    },
    {
      "cell_type": "code",
      "source": [
        "# a = 100\n",
        "# a\n",
        "\n",
        "number=100\n",
        "raining = True\n",
        "float1 = 42.4\n",
        "welcome = \"Hello and welcome\"\n",
        "list1 = [1,2,3,4,5,6,7,8,9]\n",
        "dictionary1 = {\"day\":1,\"day\":2, \"day\":3}\n",
        "tuple1 = (1,2,3)\n",
        "set1 = {\"Apple\", \"Banana\", \"Orange\"}\n",
        "print(type(number))\n",
        "print(type(raining))\n",
        "print(type(float1))\n",
        "print(type(welcome))\n",
        "print(type(list1))\n",
        "print(type(dictionary1))\n",
        "print(type(tuple1))\n",
        "print(type(set1))"
      ],
      "metadata": {
        "colab": {
          "base_uri": "https://localhost:8080/"
        },
        "id": "uRWnN2h9e9Lq",
        "outputId": "d7569459-18d7-45c6-edb3-85f33be1d01b"
      },
      "execution_count": null,
      "outputs": [
        {
          "output_type": "stream",
          "name": "stdout",
          "text": [
            "<class 'int'>\n",
            "<class 'bool'>\n",
            "<class 'float'>\n",
            "<class 'str'>\n",
            "<class 'list'>\n",
            "<class 'dict'>\n",
            "<class 'tuple'>\n",
            "<class 'set'>\n"
          ]
        }
      ]
    },
    {
      "cell_type": "code",
      "source": [
        "# a = 1\n",
        "# if(a):\n",
        "#   print(\"True\")\n",
        "def convert_to_faren(celsius):\n",
        "  f=(9/5*celsius)+32\n",
        "  return f\n",
        "\n",
        "c=float(input(\"Enter the temp in celsius: \"))\n",
        "convert_to_faren(c)"
      ],
      "metadata": {
        "colab": {
          "base_uri": "https://localhost:8080/"
        },
        "id": "IZwD-u89i3zT",
        "outputId": "a208eafa-5be4-451e-9f5d-bc29a2cf194b"
      },
      "execution_count": null,
      "outputs": [
        {
          "name": "stdout",
          "output_type": "stream",
          "text": [
            "Enter the temp in celsius: 70\n"
          ]
        },
        {
          "output_type": "execute_result",
          "data": {
            "text/plain": [
              "158.0"
            ]
          },
          "metadata": {},
          "execution_count": 27
        }
      ]
    },
    {
      "cell_type": "code",
      "source": [],
      "metadata": {
        "id": "nqQEh45XmzZ-"
      },
      "execution_count": null,
      "outputs": []
    },
    {
      "cell_type": "code",
      "source": [
        "def add(x,y):\n",
        "  return x+y\n",
        "\n",
        "def sub(x,y):\n",
        "  return x-y\n",
        "\n",
        "def mult(x,y):\n",
        "  return x*y\n",
        "\n",
        "def div(x,y):\n",
        "  return x/y\n",
        "\n",
        "def rem(x,y):\n",
        "  return x%y\n",
        "\n",
        "def calculate(option):\n",
        "  if(option == \"1\" or \"2\" or \"3\" or \"4\" or \"5\"):\n",
        "    number1 = float(input(\"Enter the first number: \"))\n",
        "    number2 = float(input(\"Enter the second number: \"))\n",
        "    if(option == \"1\"):\n",
        "      print(\"sum\", number1,\"+\", number2, \"=\", add(number1,number2))\n",
        "    elif(option==\"2\"):\n",
        "      print(\"difference\", number1,\"-\", number2, \"=\", sub(number1,number2))\n",
        "    elif(option==\"3\"):\n",
        "      print(\"product\", number1,\"*\", number2, \"=\", mult(number1,number2))\n",
        "    elif(option==\"4\"):\n",
        "      print(\"quotient\", number1,\"/\", number2, \"=\", div(number1,number2))\n",
        "    elif(option==\"5\"):\n",
        "      print(\"remainder\", number1,\"%\", number2, \"=\", rem(number1,number2))\n",
        "\n",
        "print(\"Chose the operation from below: \")\n",
        "print(\"1.Add\")\n",
        "print(\"2.Sub\")\n",
        "print(\"3.Mult\")\n",
        "print(\"4.Div\")\n",
        "print(\"5.Rem\")\n",
        "option= input(\"Enter the number of the operation: \")\n",
        "print(\"\\n\")\n",
        "calculate(option)"
      ],
      "metadata": {
        "colab": {
          "base_uri": "https://localhost:8080/"
        },
        "id": "fqcgu9etmzb5",
        "outputId": "5bb6ba59-c424-4ef5-d5d8-41682531a57c"
      },
      "execution_count": null,
      "outputs": [
        {
          "output_type": "stream",
          "name": "stdout",
          "text": [
            "Chose the operation from below: \n",
            "1.Add\n",
            "2.Sub\n",
            "3.Mult\n",
            "4.Div\n",
            "5.Rem\n",
            "Enter the number of the operation: 5\n",
            "\n",
            "\n",
            "Enter the first number: 3\n",
            "Enter the second number: 2\n",
            "remainder 3.0 % 2.0 = 1.0\n"
          ]
        }
      ]
    },
    {
      "cell_type": "code",
      "source": [
        "a = 6\n",
        "b = 3\n",
        "print(a*b)"
      ],
      "metadata": {
        "colab": {
          "base_uri": "https://localhost:8080/"
        },
        "id": "H9XcZ_c0p1BK",
        "outputId": "3fbb5e3c-2933-4972-c2a9-9251fb7f0c74"
      },
      "execution_count": null,
      "outputs": [
        {
          "output_type": "stream",
          "name": "stdout",
          "text": [
            "18\n"
          ]
        }
      ]
    }
  ]
}